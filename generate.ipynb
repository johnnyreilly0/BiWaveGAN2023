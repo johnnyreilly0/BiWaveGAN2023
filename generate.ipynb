{
 "cells": [
  {
   "cell_type": "code",
   "execution_count": 1,
   "metadata": {},
   "outputs": [],
   "source": [
    "import torch\n",
    "import utils.data_utils\n",
    "import numpy as np\n",
    "import librosa\n",
    "import matplotlib.pyplot as plt\n",
    "import model\n",
    "import soundfile\n",
    "import umap"
   ]
  },
  {
   "cell_type": "code",
   "execution_count": 2,
   "metadata": {},
   "outputs": [],
   "source": [
    "def load_model(ckpt):\n",
    "    bwg = model.BiWaveGAN(\n",
    "        slice_len=32768,\n",
    "        latent_dim=ckpt['latent dim'], \n",
    "        model_size=ckpt['model size'], \n",
    "        discrim_filters=ckpt['disrim filters'],\n",
    "        z_discrim_depth=ckpt['z discrim depth'],\n",
    "        joint_discrim_depth=ckpt['joint discrim depth'],\n",
    "        phaseshuffle_rad=ckpt['phaseshuffle rad'],\n",
    "        device=device)\n",
    "    bwg.G.load_state_dict(ckpt['G state_dict'])#, strict=strict)\n",
    "    bwg.E.load_state_dict(ckpt['E state_dict'])\n",
    "    bwg.D.load_state_dict(ckpt['D state_dict'])\n",
    "    bwg.eval()\n",
    "    \n",
    "    return bwg \n",
    "\n",
    "def spectrogram(x, n_fft=512, hop_length=128, win_length=None):\n",
    "    \"\"\"\n",
    "    Creates a spectrogram from a loaded audio file\n",
    "    \"\"\"\n",
    "    S = np.abs(librosa.stft(x, n_fft, hop_length, win_length)) ** 2\n",
    "    S = librosa.power_to_db(S)\n",
    "    return S\n",
    "\n"
   ]
  },
  {
   "cell_type": "code",
   "execution_count": 3,
   "metadata": {},
   "outputs": [],
   "source": [
    "device = 'cpu'\n",
    "ckpt_path = \"model_150k.ckpt\""
   ]
  },
  {
   "cell_type": "code",
   "execution_count": 4,
   "metadata": {},
   "outputs": [],
   "source": [
    "ckpt = torch.load(ckpt_path, map_location=torch.device(device))"
   ]
  },
  {
   "cell_type": "code",
   "execution_count": 5,
   "metadata": {},
   "outputs": [
    {
     "name": "stdout",
     "output_type": "stream",
     "text": [
      "dict_keys(['slice len', 'latent dim', 'model size', 'phaseshuffle rad', 'disrim filters', 'z discrim depth', 'joint discrim depth', 'G state_dict', 'E state_dict', 'D state_dict', 'EG optimiser', 'D optimiser', 'iter', 'EG losses', 'D losses', 'val recon errors'])\n",
      "150000\n"
     ]
    }
   ],
   "source": [
    "print(ckpt.keys())\n",
    "print(ckpt['iter'])"
   ]
  },
  {
   "cell_type": "code",
   "execution_count": 6,
   "metadata": {},
   "outputs": [],
   "source": [
    "biwavegan = load_model(ckpt)"
   ]
  },
  {
   "cell_type": "code",
   "execution_count": 7,
   "metadata": {},
   "outputs": [],
   "source": [
    "# Uniform random sampling\n",
    "z = torch.Tensor(500, biwavegan.latent_dim).uniform_(-1, 1).to(device)\n",
    "x = biwavegan.generate(z)\n",
    "#x_recon = biwavegan.reconstruct(x).detach().numpy()\n",
    "x = x.detach().numpy()"
   ]
  },
  {
   "cell_type": "code",
   "execution_count": null,
   "metadata": {},
   "outputs": [],
   "source": [
    "for i, x_i in enumerate(x):\n",
    "    S = spectrogram(x_i.flatten())\n",
    "    plt.imshow(np.flipud(S), origin='lower')\n",
    "    plt.show()"
   ]
  },
  {
   "cell_type": "code",
   "execution_count": 24,
   "metadata": {},
   "outputs": [],
   "source": [
    "for i, x_i in enumerate(x):\n",
    "    path = f\"generated_samples_it150k/sample{i}.wav\"\n",
    "    soundfile.write(path, x_i.flatten(), 250000)"
   ]
  },
  {
   "cell_type": "code",
   "execution_count": 25,
   "metadata": {},
   "outputs": [],
   "source": [
    "np.save(\"z_array_it150k.npy\", z.numpy())"
   ]
  },
  {
   "cell_type": "code",
   "execution_count": 59,
   "metadata": {},
   "outputs": [
    {
     "name": "stdout",
     "output_type": "stream",
     "text": [
      "3146\n"
     ]
    }
   ],
   "source": [
    "test_data_path = '../NAS/data/mupet_data/syllables/test'\n",
    "test_dataset = utils.data_utils.WAVDataset(test_data_path, 250000, 32768)\n",
    "test_loader = torch.utils.data.DataLoader(test_dataset, batch_size=16)\n",
    "print(len(test_dataset))"
   ]
  },
  {
   "cell_type": "code",
   "execution_count": 48,
   "metadata": {},
   "outputs": [
    {
     "ename": "NameError",
     "evalue": "name 'test_dataset' is not defined",
     "output_type": "error",
     "traceback": [
      "\u001b[1;31m---------------------------------------------------------------------------\u001b[0m",
      "\u001b[1;31mNameError\u001b[0m                                 Traceback (most recent call last)",
      "\u001b[1;32m<ipython-input-48-0bd6a9ed3e1b>\u001b[0m in \u001b[0;36m<module>\u001b[1;34m\u001b[0m\n\u001b[1;32m----> 1\u001b[1;33m \u001b[1;32mfor\u001b[0m \u001b[0mi\u001b[0m\u001b[1;33m,\u001b[0m \u001b[0mx\u001b[0m \u001b[1;32min\u001b[0m \u001b[0menumerate\u001b[0m\u001b[1;33m(\u001b[0m\u001b[0mtest_dataset\u001b[0m\u001b[1;33m)\u001b[0m\u001b[1;33m:\u001b[0m\u001b[1;33m\u001b[0m\u001b[1;33m\u001b[0m\u001b[0m\n\u001b[0m\u001b[0;32m      2\u001b[0m     \u001b[1;32mif\u001b[0m \u001b[0mi\u001b[0m \u001b[1;33m==\u001b[0m \u001b[1;36m100\u001b[0m\u001b[1;33m:\u001b[0m\u001b[1;33m\u001b[0m\u001b[1;33m\u001b[0m\u001b[0m\n\u001b[0;32m      3\u001b[0m         \u001b[1;32mbreak\u001b[0m\u001b[1;33m\u001b[0m\u001b[1;33m\u001b[0m\u001b[0m\n\u001b[0;32m      4\u001b[0m     \u001b[0mrecon\u001b[0m \u001b[1;33m=\u001b[0m \u001b[0mbiwavegan\u001b[0m\u001b[1;33m.\u001b[0m\u001b[0mreconstruct\u001b[0m\u001b[1;33m(\u001b[0m\u001b[0mx\u001b[0m\u001b[1;33m.\u001b[0m\u001b[0munsqueeze\u001b[0m\u001b[1;33m(\u001b[0m\u001b[1;36m0\u001b[0m\u001b[1;33m)\u001b[0m\u001b[1;33m)\u001b[0m\u001b[1;33m.\u001b[0m\u001b[0mdetach\u001b[0m\u001b[1;33m(\u001b[0m\u001b[1;33m)\u001b[0m\u001b[1;33m.\u001b[0m\u001b[0mnumpy\u001b[0m\u001b[1;33m(\u001b[0m\u001b[1;33m)\u001b[0m\u001b[1;33m\u001b[0m\u001b[1;33m\u001b[0m\u001b[0m\n\u001b[0;32m      5\u001b[0m     \u001b[0mx\u001b[0m \u001b[1;33m=\u001b[0m \u001b[0mx\u001b[0m\u001b[1;33m.\u001b[0m\u001b[0mdetach\u001b[0m\u001b[1;33m(\u001b[0m\u001b[1;33m)\u001b[0m\u001b[1;33m.\u001b[0m\u001b[0mnumpy\u001b[0m\u001b[1;33m(\u001b[0m\u001b[1;33m)\u001b[0m\u001b[1;33m\u001b[0m\u001b[1;33m\u001b[0m\u001b[0m\n",
      "\u001b[1;31mNameError\u001b[0m: name 'test_dataset' is not defined"
     ]
    }
   ],
   "source": [
    "for i, x in enumerate(test_dataset):\n",
    "    if i == 100:\n",
    "        break\n",
    "    recon = biwavegan.reconstruct(x.unsqueeze(0)).detach().numpy()\n",
    "    x = x.detach().numpy()\n",
    "    S_x = spectrogram(x.flatten())\n",
    "    S_recon = spectrogram(recon.flatten())\n",
    "    S = np.concatenate((S_x, S_recon), axis=1)\n",
    "    plt.imshow(S)\n",
    "    plt.show()"
   ]
  },
  {
   "cell_type": "code",
   "execution_count": 33,
   "metadata": {},
   "outputs": [
    {
     "data": {
      "text/plain": [
       "tensor([[ 0.4874,  0.1016, -0.8050,  ...,  0.6643,  0.4042, -0.1206],\n",
       "        [-0.7643,  0.2708, -0.5239,  ..., -0.3928,  0.2357,  0.9170],\n",
       "        [-0.3688, -0.4198, -0.2261,  ...,  0.8213, -0.5471,  0.1768],\n",
       "        ...,\n",
       "        [-0.5807, -0.8791,  0.6947,  ..., -0.3693,  0.8608, -0.5094],\n",
       "        [ 0.1566,  0.1466, -0.1828,  ..., -0.5045,  0.1552,  0.3222],\n",
       "        [ 0.2315, -0.0738,  0.2502,  ..., -0.6430, -0.9962, -0.9571]])"
      ]
     },
     "execution_count": 33,
     "metadata": {},
     "output_type": "execute_result"
    }
   ],
   "source": [
    "z"
   ]
  },
  {
   "cell_type": "code",
   "execution_count": 35,
   "metadata": {},
   "outputs": [
    {
     "data": {
      "text/plain": [
       "array([[ 0.48737323,  0.10160303, -0.8050175 , ...,  0.664271  ,\n",
       "         0.4042275 , -0.12062645],\n",
       "       [-0.7643467 ,  0.27083826, -0.523859  , ..., -0.39278185,\n",
       "         0.23572707,  0.9170399 ],\n",
       "       [-0.36879134, -0.41976893, -0.22605789, ...,  0.8213273 ,\n",
       "        -0.54713094,  0.17676401],\n",
       "       ...,\n",
       "       [-0.5807235 , -0.8790988 ,  0.6947191 , ..., -0.36931145,\n",
       "         0.86080873, -0.50942755],\n",
       "       [ 0.15664577,  0.14660895, -0.1827538 , ..., -0.50453794,\n",
       "         0.15518653,  0.3221649 ],\n",
       "       [ 0.2314564 , -0.07382596,  0.25017285, ..., -0.64297056,\n",
       "        -0.9961927 , -0.957052  ]], dtype=float32)"
      ]
     },
     "execution_count": 35,
     "metadata": {},
     "output_type": "execute_result"
    }
   ],
   "source": [
    "np.load(\"z_array_it75000.npy\")"
   ]
  },
  {
   "cell_type": "code",
   "execution_count": 33,
   "metadata": {},
   "outputs": [],
   "source": [
    "reducer = umap.UMAP()\n",
    "embedding = reducer.fit_transform(x[:,0,:].T)"
   ]
  },
  {
   "cell_type": "code",
   "execution_count": 40,
   "metadata": {},
   "outputs": [
    {
     "data": {
      "text/plain": [
       "<matplotlib.collections.PathCollection at 0x1ff8bb47eb0>"
      ]
     },
     "execution_count": 40,
     "metadata": {},
     "output_type": "execute_result"
    },
    {
     "data": {
      "image/png": "[encoded data removed]",
      "text/plain": [
       "<Figure size 432x288 with 1 Axes>"
      ]
     },
     "metadata": {
      "needs_background": "light"
     },
     "output_type": "display_data"
    }
   ],
   "source": [
    "plt.scatter(embedding[:, 0], embedding[:, 1], marker=\"x\")"
   ]
  },
  {
   "cell_type": "code",
   "execution_count": 41,
   "metadata": {},
   "outputs": [
    {
     "data": {
      "text/plain": [
       "array([[ 8.288635 , 10.501492 ],\n",
       "       [ 8.50032  , 10.352903 ],\n",
       "       [ 8.545265 , 10.540835 ],\n",
       "       ...,\n",
       "       [ 8.644388 , 10.424241 ],\n",
       "       [ 8.538296 , 10.615389 ],\n",
       "       [ 8.57214  , 10.6136055]], dtype=float32)"
      ]
     },
     "execution_count": 41,
     "metadata": {},
     "output_type": "execute_result"
    }
   ],
   "source": [
    "embedding"
   ]
  },
  {
   "cell_type": "code",
   "execution_count": null,
   "metadata": {},
   "outputs": [],
   "source": []
  }
 ],
 "metadata": {
  "kernelspec": {
   "display_name": "Python 3",
   "language": "python",
   "name": "python3"
  },
  "language_info": {
   "codemirror_mode": {
    "name": "ipython",
    "version": 3
   },
   "file_extension": ".py",
   "mimetype": "text/x-python",
   "name": "python",
   "nbconvert_exporter": "python",
   "pygments_lexer": "ipython3",
   "version": "3.8.3"
  }
 },
 "nbformat": 4,
 "nbformat_minor": 4
}
